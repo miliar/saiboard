{
 "cells": [
  {
   "cell_type": "markdown",
   "metadata": {},
   "source": [
    "### This is a simply client script to interactivly test all components of the board"
   ]
  },
  {
   "cell_type": "code",
   "execution_count": 1,
   "metadata": {},
   "outputs": [],
   "source": [
    "import socket\n",
    "import json\n",
    "from time import sleep\n",
    "import numpy as np\n",
    "\n",
    "HOST = '192.168.4.1'    \n",
    "PORT = 3333"
   ]
  },
  {
   "cell_type": "markdown",
   "metadata": {},
   "source": [
    "### Display all leds in all colors"
   ]
  },
  {
   "cell_type": "code",
   "execution_count": 12,
   "metadata": {},
   "outputs": [
    {
     "name": "stdout",
     "output_type": "stream",
     "text": [
      "{'status': 'OK'}\n",
      "{'status': 'OK'}\n",
      "{'status': 'OK'}\n",
      "{'status': 'OK'}\n",
      "{'status': 'OK'}\n"
     ]
    }
   ],
   "source": [
    "\n",
    "with socket.socket(socket.AF_INET, socket.SOCK_STREAM) as s:\n",
    "    s.connect((HOST, PORT))\n",
    "    for color in [(100,0,0,0),(0,100,0,0),(0,0,100,0),(0,0,0,100),(0,0,0,0)]:\n",
    "        s.sendall(json.dumps({\"name\":\"led\", \"leds\": [[i,k,*color] for i in range(19) for k in range(19)]}).encode())\n",
    "        data = s.recv(1024)[:-1] # remove zero\n",
    "        print(json.loads(data.decode()))\n",
    "        sleep(2)"
   ]
  },
  {
   "cell_type": "markdown",
   "metadata": {},
   "source": [
    "### Get all hall sensor values"
   ]
  },
  {
   "cell_type": "code",
   "execution_count": 13,
   "metadata": {},
   "outputs": [],
   "source": [
    "\n",
    "def hall_matrix():\n",
    "    with socket.socket(socket.AF_INET, socket.SOCK_STREAM) as s:\n",
    "        s.connect((HOST, PORT))\n",
    "        s.sendall(json.dumps({\"name\":\"hall\"}).encode())\n",
    "        data = s.recv(8192)\n",
    "        while (not (b'\\x00' in data)):\n",
    "            data+=s.recv(8192)\n",
    "        return np.array(json.loads(data[:-1].decode())['hall'])\n",
    "        "
   ]
  },
  {
   "cell_type": "code",
   "execution_count": 14,
   "metadata": {},
   "outputs": [],
   "source": [
    "hall_init = np.around((hall_matrix() + hall_matrix() + hall_matrix()) / 3)\n"
   ]
  },
  {
   "cell_type": "code",
   "execution_count": 15,
   "metadata": {},
   "outputs": [
    {
     "data": {
      "text/plain": [
       "array([[-1., -7., -1., -1.,  3., -1., -3.,  0., -3., -5., -2., -2.,  6.,\n",
       "        -1.,  0., -3., -2., -1., -1.],\n",
       "       [ 1., -1.,  1., -2.,  0., -2., -2.,  2.,  2.,  1., -1.,  1., -1.,\n",
       "        -2.,  0., -3.,  1., -1.,  1.],\n",
       "       [ 3., -2.,  1.,  2.,  0.,  1.,  1., -1.,  1.,  0., -1.,  0.,  2.,\n",
       "         0.,  0.,  2.,  2., -3., -3.],\n",
       "       [ 7.,  0.,  3., -2.,  0., -2., -2., -4., -1.,  0., -1.,  3., -1.,\n",
       "         1., -3.,  1., -1.,  3.,  3.],\n",
       "       [ 1.,  0.,  0.,  1.,  2., -1.,  1., -1.,  0., -1.,  1.,  0.,  1.,\n",
       "         5.,  3.,  3.,  0., -2., -2.],\n",
       "       [ 0.,  6., -1., -1., -2.,  0.,  4.,  2.,  1.,  0.,  0.,  0., -1.,\n",
       "        -1.,  0.,  1.,  4.,  0.,  1.],\n",
       "       [-1., -1.,  1., -1.,  2.,  0.,  1.,  3.,  1.,  0.,  1., -1.,  2.,\n",
       "         2.,  2.,  2., -2.,  1.,  0.],\n",
       "       [ 1.,  1., -2.,  1.,  2., -1.,  1., -3., -2., -1.,  1., -5.,  0.,\n",
       "         1.,  0.,  3.,  7.,  1.,  0.],\n",
       "       [ 0.,  1.,  0.,  3.,  1., -1.,  1., -3., -1.,  1., -1., -2.,  0.,\n",
       "        -1.,  3., -3.,  3.,  5., -1.],\n",
       "       [ 1., -2., -1.,  1.,  0., -1.,  1.,  1., -1., -2.,  1.,  0.,  0.,\n",
       "         2., -1.,  0., -1., -4.,  2.],\n",
       "       [-1., -1.,  6.,  0.,  3.,  0.,  4.,  3.,  0.,  0.,  0., -2., -1.,\n",
       "         1.,  3.,  1., -1.,  1., -2.],\n",
       "       [-4., -5.,  0.,  1.,  0., -1.,  1.,  3.,  5.,  2.,  1.,  3.,  0.,\n",
       "         0.,  2.,  2.,  2.,  1.,  2.],\n",
       "       [-1., -2.,  4.,  3.,  2., -1.,  4., -2., -4.,  1.,  1., -2.,  1.,\n",
       "         1.,  1.,  0.,  2., -6.,  1.],\n",
       "       [-1.,  2.,  0., -1.,  1.,  1.,  0., -1.,  0.,  1.,  0., -3., -3.,\n",
       "        -2., -1., -2., -3.,  0.,  2.],\n",
       "       [-1., -1., -1.,  0., -1., -2.,  0., -1.,  4.,  2., -1.,  0., -1.,\n",
       "         1., -2.,  3., -2.,  4.,  0.],\n",
       "       [ 2.,  0., -2., -1., -1.,  4.,  0.,  3.,  3.,  0., -1.,  0.,  4.,\n",
       "         2.,  1.,  3.,  0., -1.,  0.],\n",
       "       [ 3.,  1., -3.,  2.,  5.,  2.,  1.,  0.,  1., -1.,  0.,  0.,  2.,\n",
       "         1., -2., -3., -4., -4.,  3.],\n",
       "       [ 1., -1.,  2.,  0., -1.,  2.,  1.,  1.,  0.,  2., -2., -2.,  3.,\n",
       "        -1.,  2., -1., -7., -3., -2.],\n",
       "       [ 0., -2.,  1.,  5.,  2., -1., -3., -2., -2., -3.,  3.,  1., -1.,\n",
       "        -2.,  0., -2.,  2.,  3., -1.]])"
      ]
     },
     "execution_count": 15,
     "metadata": {},
     "output_type": "execute_result"
    }
   ],
   "source": [
    "hall_matrix()- hall_init"
   ]
  },
  {
   "cell_type": "markdown",
   "metadata": {},
   "source": [
    "### Get touch sensor value"
   ]
  },
  {
   "cell_type": "code",
   "execution_count": 16,
   "metadata": {},
   "outputs": [],
   "source": [
    "def touch():\n",
    "    with socket.socket(socket.AF_INET, socket.SOCK_STREAM) as s:\n",
    "        s.connect((HOST, PORT))\n",
    "        s.sendall(json.dumps({\"name\":\"hall\"}).encode())\n",
    "        data = s.recv(8192)\n",
    "        while (not (b'\\x00' in data)):\n",
    "            data+=s.recv(8192)\n",
    "        return json.loads(data[:-1].decode())['touch']\n",
    "        "
   ]
  },
  {
   "cell_type": "code",
   "execution_count": 17,
   "metadata": {},
   "outputs": [],
   "source": [
    "touch_init = np.around((touch() + touch() + touch()) / 3)"
   ]
  },
  {
   "cell_type": "code",
   "execution_count": 18,
   "metadata": {},
   "outputs": [
    {
     "data": {
      "text/plain": [
       "143.0"
      ]
     },
     "execution_count": 18,
     "metadata": {},
     "output_type": "execute_result"
    }
   ],
   "source": [
    "touch() - touch_init"
   ]
  }
 ],
 "metadata": {
  "kernelspec": {
   "display_name": "Python 3 (ipykernel)",
   "language": "python",
   "name": "python3"
  },
  "language_info": {
   "codemirror_mode": {
    "name": "ipython",
    "version": 3
   },
   "file_extension": ".py",
   "mimetype": "text/x-python",
   "name": "python",
   "nbconvert_exporter": "python",
   "pygments_lexer": "ipython3",
   "version": "3.9.12"
  },
  "vscode": {
   "interpreter": {
    "hash": "97c190e4904dab8f7eb42fafec485f94f90b83850e281688a99af97fa6ee9b02"
   }
  }
 },
 "nbformat": 4,
 "nbformat_minor": 2
}
